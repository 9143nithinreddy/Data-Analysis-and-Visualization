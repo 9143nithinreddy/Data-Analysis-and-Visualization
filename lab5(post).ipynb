{
 "cells": [
  {
   "cell_type": "code",
   "execution_count": 3,
   "id": "23a7fb64-4ad4-4a1f-8502-b4420e5e285a",
   "metadata": {},
   "outputs": [
    {
     "name": "stdout",
     "output_type": "stream",
     "text": [
      "Sorted Data: [9, 18, 27, 156, 163, 166, 171, 176, 180]\n",
      "Low Outliers: []\n",
      "High Outliers: [9, 18, 27, 156, 163, 166, 171, 176, 180]\n"
     ]
    }
   ],
   "source": [
    "#Sorting method\n",
    "import numpy as np\n",
    "\n",
    "# Sample dataset\n",
    "data = [180, 156, 9, 176, 163, 18, 27, 166, 171]\n",
    "\n",
    "# Sort the data\n",
    "sorted_data = sorted(data)\n",
    "\n",
    "# Define the proportion of data to consider as outliers\n",
    "proportion = 0.1  # 10% for each end\n",
    "\n",
    "# Determine the number of outliers\n",
    "n_outliers = int(len(sorted_data) * proportion)\n",
    "\n",
    "# Identify outliers\n",
    "outliers_low = sorted_data[:n_outliers]\n",
    "outliers_high = sorted_data[-n_outliers:]\n",
    "\n",
    "# Display the results\n",
    "print(\"Sorted Data:\", sorted_data)\n",
    "print(\"Low Outliers:\", outliers_low)\n",
    "print(\"High Outliers:\", outliers_high)\n"
   ]
  },
  {
   "cell_type": "code",
   "execution_count": 5,
   "id": "5bd4a4e6-fc27-4455-87f5-335d0cc6953a",
   "metadata": {},
   "outputs": [
    {
     "data": {
      "image/png": "[encoded data removed]",
      "text/plain": [
       "<Figure size 800x600 with 1 Axes>"
      ]
     },
     "metadata": {},
     "output_type": "display_data"
    }
   ],
   "source": [
    "# Data visualization method\n",
    "import pandas as pd\n",
    "import matplotlib.pyplot as plt\n",
    "import seaborn as sns\n",
    "\n",
    "# Sample dataset\n",
    "data = [180, 156, 9, 176, 163, 18, 27, 166, 171]\n",
    "df = pd.DataFrame(data, columns=['Value'])\n",
    "\n",
    "# Create a box plot\n",
    "plt.figure(figsize=(8, 6))\n",
    "sns.boxplot(x=df['Value'])\n",
    "\n",
    "# Add title and labels\n",
    "plt.title('Box Plot for Outlier Detection')\n",
    "plt.xlabel('Value')\n",
    "\n",
    "# Display the plot\n",
    "plt.show()\n"
   ]
  },
  {
   "cell_type": "code",
   "execution_count": 9,
   "id": "80edebb2-1aa3-4b1c-a92a-c569834a6e22",
   "metadata": {},
   "outputs": [
    {
     "name": "stdout",
     "output_type": "stream",
     "text": [
      "Original Data with Z-scores:\n",
      "   Value   Z-score\n",
      "0    180  0.861479\n",
      "1    156  0.525595\n",
      "2      9 -1.531691\n",
      "3    176  0.805498\n",
      "4    163  0.623562\n",
      "5     18 -1.405735\n",
      "6     27 -1.279778\n",
      "7    166  0.665547\n",
      "8    171  0.735523\n",
      "\n",
      "Identified Outliers:\n",
      "Empty DataFrame\n",
      "Columns: [Value, Z-score]\n",
      "Index: []\n"
     ]
    }
   ],
   "source": [
    "#Statistical tests (z scores)\n",
    "#import numpy as np\n",
    "import pandas as pd\n",
    "from scipy import stats\n",
    "\n",
    "# Sample dataset\n",
    "data = [180, 156, 9, 176, 163, 18, 27, 166, 171]\n",
    "df = pd.DataFrame(data, columns=['Value'])\n",
    "\n",
    "# Calculate Z-scores\n",
    "df['Z-score'] = stats.zscore(df['Value'])\n",
    "\n",
    "# Define a threshold for identifying outliers\n",
    "threshold = 3\n",
    "\n",
    "# Identify outliers\n",
    "outliers = df[np.abs(df['Z-score']) > threshold]\n",
    "\n",
    "# Display the results\n",
    "print(\"Original Data with Z-scores:\")\n",
    "print(df)\n",
    "print(\"\\nIdentified Outliers:\")\n",
    "print(outliers)\n"
   ]
  },
  {
   "cell_type": "code",
   "execution_count": 11,
   "id": "20e441ff-468e-4731-b212-5d0c37fe5636",
   "metadata": {},
   "outputs": [
    {
     "name": "stdout",
     "output_type": "stream",
     "text": [
      "Original Data:\n",
      "   Value\n",
      "0    180\n",
      "1    156\n",
      "2      9\n",
      "3    176\n",
      "4    163\n",
      "5     18\n",
      "6     27\n",
      "7    166\n",
      "8    171\n",
      "\n",
      "Q1: 27.0\n",
      "Q3: 171.0\n",
      "IQR: 144.0\n",
      "Lower Bound: -189.0\n",
      "Upper Bound: 387.0\n",
      "\n",
      "Identified Outliers:\n",
      "Empty DataFrame\n",
      "Columns: [Value]\n",
      "Index: []\n"
     ]
    }
   ],
   "source": [
    "#Interquartile range method\n",
    "import pandas as pd\n",
    "\n",
    "# Sample dataset\n",
    "data = [180, 156, 9, 176, 163, 18, 27, 166, 171]\n",
    "df = pd.DataFrame(data, columns=['Value'])\n",
    "\n",
    "# Calculate Q1 and Q3\n",
    "Q1 = df['Value'].quantile(0.25)\n",
    "Q3 = df['Value'].quantile(0.75)\n",
    "\n",
    "# Calculate IQR\n",
    "IQR = Q3 - Q1\n",
    "\n",
    "# Define bounds for outliers\n",
    "lower_bound = Q1 - 1.5 * IQR\n",
    "upper_bound = Q3 + 1.5 * IQR\n",
    "\n",
    "# Identify outliers\n",
    "outliers = df[(df['Value'] < lower_bound) | (df['Value'] > upper_bound)]\n",
    "\n",
    "# Display the results\n",
    "print(\"Original Data:\")\n",
    "print(df)\n",
    "print(\"\\nQ1:\", Q1)\n",
    "print(\"Q3:\", Q3)\n",
    "print(\"IQR:\", IQR)\n",
    "print(\"Lower Bound:\", lower_bound)\n",
    "print(\"Upper Bound:\", upper_bound)\n",
    "print(\"\\nIdentified Outliers:\")\n",
    "print(outliers)\n"
   ]
  },
  {
   "cell_type": "code",
   "execution_count": null,
   "id": "0c0982b8-6de7-47f8-b83c-c4fdaee65b32",
   "metadata": {},
   "outputs": [],
   "source": []
  }
 ],
 "metadata": {
  "kernelspec": {
   "display_name": "Python 3 (ipykernel)",
   "language": "python",
   "name": "python3"
  },
  "language_info": {
   "codemirror_mode": {
    "name": "ipython",
    "version": 3
   },
   "file_extension": ".py",
   "mimetype": "text/x-python",
   "name": "python",
   "nbconvert_exporter": "python",
   "pygments_lexer": "ipython3",
   "version": "3.12.4"
  }
 },
 "nbformat": 4,
 "nbformat_minor": 5
}
