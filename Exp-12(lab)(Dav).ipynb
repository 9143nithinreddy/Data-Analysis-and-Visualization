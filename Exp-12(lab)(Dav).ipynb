{
 "cells": [
  {
   "cell_type": "code",
   "execution_count": null,
   "id": "18bbbe66-97aa-4c99-bcb0-85e54916ce8b",
   "metadata": {},
   "outputs": [],
   "source": [
    "#Comparative Study of Teaching Methods on Student Performance with ANOVA Test to find significance of Methodology on Student Performance using python?group_a = [85, 92, 88, 78, 95]group_b = [75, 81, 88, 66, 78]group_c = [90, 85, 80, 88, 75]\n"
   ]
  },
  {
   "cell_type": "code",
   "execution_count": 1,
   "id": "9fcdc5c2-cb62-4301-852b-153119073c14",
   "metadata": {},
   "outputs": [
    {
     "name": "stdout",
     "output_type": "stream",
     "text": [
      "F-Statistic: 2.6045236463331056\n",
      "P-Value: 0.11495993452472857\n"
     ]
    }
   ],
   "source": [
    "import scipy.stats as stats\n",
    "\n",
    "# Sample data: Scores for different teaching methods\n",
    "group_a = [85, 92, 88, 78, 95]  # Method A\n",
    "group_b = [75, 81, 88, 66, 78]  # Method B\n",
    "group_c = [90, 85, 80, 88, 75]  # Method C\n",
    "\n",
    "# Perform one-way ANOVA\n",
    "f_statistic, p_value = stats.f_oneway(group_a, group_b, group_c)\n",
    "\n",
    "# Display the results\n",
    "print(f\"F-Statistic: {f_statistic}\")\n",
    "print(f\"P-Value: {p_value}\")\n"
   ]
  },
  {
   "cell_type": "code",
   "execution_count": null,
   "id": "a3cfc80d-24a8-4df1-90bd-dd520613d143",
   "metadata": {},
   "outputs": [],
   "source": []
  }
 ],
 "metadata": {
  "kernelspec": {
   "display_name": "Python 3 (ipykernel)",
   "language": "python",
   "name": "python3"
  },
  "language_info": {
   "codemirror_mode": {
    "name": "ipython",
    "version": 3
   },
   "file_extension": ".py",
   "mimetype": "text/x-python",
   "name": "python",
   "nbconvert_exporter": "python",
   "pygments_lexer": "ipython3",
   "version": "3.11.5"
  }
 },
 "nbformat": 4,
 "nbformat_minor": 5
}
