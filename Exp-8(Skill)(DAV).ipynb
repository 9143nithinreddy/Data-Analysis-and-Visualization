{
 "cells": [
  {
   "cell_type": "code",
   "execution_count": 1,
   "id": "6554240b-c73e-4724-bc79-1f4ae9ee490b",
   "metadata": {},
   "outputs": [
    {
     "name": "stdout",
     "output_type": "stream",
     "text": [
      "     PassengerId  Survived  Pclass  \\\n",
      "0              1         0       3   \n",
      "1              2         1       1   \n",
      "2              3         1       3   \n",
      "3              4         1       1   \n",
      "4              5         0       3   \n",
      "..           ...       ...     ...   \n",
      "886          887         0       2   \n",
      "887          888         1       1   \n",
      "888          889         0       3   \n",
      "889          890         1       1   \n",
      "890          891         0       3   \n",
      "\n",
      "                                                  Name     Sex   Age  SibSp  \\\n",
      "0                              Braund, Mr. Owen Harris    male  22.0      1   \n",
      "1    Cumings, Mrs. John Bradley (Florence Briggs Th...  female  38.0      1   \n",
      "2                               Heikkinen, Miss. Laina  female  26.0      0   \n",
      "3         Futrelle, Mrs. Jacques Heath (Lily May Peel)  female  35.0      1   \n",
      "4                             Allen, Mr. William Henry    male  35.0      0   \n",
      "..                                                 ...     ...   ...    ...   \n",
      "886                              Montvila, Rev. Juozas    male  27.0      0   \n",
      "887                       Graham, Miss. Margaret Edith  female  19.0      0   \n",
      "888           Johnston, Miss. Catherine Helen \"Carrie\"  female   NaN      1   \n",
      "889                              Behr, Mr. Karl Howell    male  26.0      0   \n",
      "890                                Dooley, Mr. Patrick    male  32.0      0   \n",
      "\n",
      "     Parch            Ticket     Fare Cabin Embarked  \n",
      "0        0         A/5 21171   7.2500   NaN        S  \n",
      "1        0          PC 17599  71.2833   C85        C  \n",
      "2        0  STON/O2. 3101282   7.9250   NaN        S  \n",
      "3        0            113803  53.1000  C123        S  \n",
      "4        0            373450   8.0500   NaN        S  \n",
      "..     ...               ...      ...   ...      ...  \n",
      "886      0            211536  13.0000   NaN        S  \n",
      "887      0            112053  30.0000   B42        S  \n",
      "888      2        W./C. 6607  23.4500   NaN        S  \n",
      "889      0            111369  30.0000  C148        C  \n",
      "890      0            370376   7.7500   NaN        Q  \n",
      "\n",
      "[891 rows x 12 columns]\n"
     ]
    }
   ],
   "source": [
    "# 1.import required packages\n",
    "import pandas as pd\n",
    "# 2. Load the Dataset\n",
    "import pandas as pd\n",
    "data = pd.read_csv('titanic.csv')\n",
    "print(data)"
   ]
  },
  {
   "cell_type": "code",
   "execution_count": 3,
   "id": "f1906721-092e-4ec6-afcc-82f89050ec31",
   "metadata": {},
   "outputs": [
    {
     "name": "stdout",
     "output_type": "stream",
     "text": [
      "    Embarked\n",
      "0          S\n",
      "1          C\n",
      "2          S\n",
      "3          S\n",
      "4          S\n",
      "..       ...\n",
      "886        S\n",
      "887        S\n",
      "888        S\n",
      "889        C\n",
      "890        Q\n",
      "\n",
      "[891 rows x 1 columns]\n"
     ]
    }
   ],
   "source": [
    " # 3.Handle Missing Values\n",
    "import scipy.linalg \n",
    "from sklearn.impute import SimpleImputer\n",
    "# Fill missing values for numerical columns\n",
    "imputer_num = SimpleImputer(strategy='median')\n",
    "data[['Age', 'Fare']] = imputer_num.fit_transform(data[['Age', 'Fare']])\n",
    "# Fill missing values for categorical columns\n",
    "imputer_cat = SimpleImputer(strategy='most_frequent')\n",
    "data[['Embarked']] = imputer_cat.fit_transform(data[['Embarked']])\n",
    "print(data[['Embarked']])"
   ]
  },
  {
   "cell_type": "code",
   "execution_count": 5,
   "id": "8d14d084-c8e0-4a0e-b947-0b3ba198a10a",
   "metadata": {},
   "outputs": [],
   "source": [
    "# 4. Encode Categorical Variables\n",
    "data = pd.get_dummies(data, columns=['Sex', 'Embarked'], drop_first=True)\n",
    "# 5. Feature Scaling\n",
    "from sklearn.preprocessing import StandardScaler\n",
    "scaler = StandardScaler()\n",
    "data[['Age', 'Fare']] = scaler.fit_transform(data[['Age', 'Fare']])\n"
   ]
  },
  {
   "cell_type": "code",
   "execution_count": 7,
   "id": "65e9620d-5280-4093-8e2e-ced9059bee60",
   "metadata": {},
   "outputs": [
    {
     "name": "stdout",
     "output_type": "stream",
     "text": [
      "Logistic Regression\n",
      "              precision    recall  f1-score   support\n",
      "\n",
      "           0       0.83      0.86      0.84       105\n",
      "           1       0.79      0.74      0.76        74\n",
      "\n",
      "    accuracy                           0.81       179\n",
      "   macro avg       0.81      0.80      0.80       179\n",
      "weighted avg       0.81      0.81      0.81       179\n",
      "\n",
      "ROC-AUC: 0.8828828828828829\n"
     ]
    }
   ],
   "source": [
    "# 6.Step1. Split the Data\n",
    "from sklearn.model_selection import train_test_split\n",
    "X = data.drop(columns=['Survived', 'Name', 'Ticket', 'Cabin', 'PassengerId'])\n",
    "y = data['Survived']\n",
    "X_train, X_test, y_train, y_test = train_test_split(X, y, test_size=0.2, random_state=42)\n",
    "\n",
    "\n",
    "# Step 2: Model Implementation and Evaluation\n",
    "# Technique 1. Logistic Regression classifier\n",
    "\n",
    "from sklearn.linear_model import LogisticRegression\n",
    "from sklearn.metrics import classification_report, roc_auc_score\n",
    "# Train the model\n",
    "log_reg = LogisticRegression(max_iter=1000)\n",
    "log_reg.fit(X_train, y_train)\n",
    "# Evaluate the model\n",
    "y_pred = log_reg.predict(X_test)\n",
    "print(\"Logistic Regression\")\n",
    "print(classification_report(y_test, y_pred))\n",
    "print(\"ROC-AUC:\", roc_auc_score(y_test, log_reg.predict_proba(X_test)[:, 1]))"
   ]
  },
  {
   "cell_type": "code",
   "execution_count": 9,
   "id": "1c508022-4b33-472a-a439-9379b627a105",
   "metadata": {},
   "outputs": [
    {
     "name": "stdout",
     "output_type": "stream",
     "text": [
      "Decision Tree\n",
      "              precision    recall  f1-score   support\n",
      "\n",
      "           0       0.82      0.85      0.83       105\n",
      "           1       0.77      0.73      0.75        74\n",
      "\n",
      "    accuracy                           0.80       179\n",
      "   macro avg       0.79      0.79      0.79       179\n",
      "weighted avg       0.80      0.80      0.80       179\n",
      "\n",
      "ROC-AUC: 0.8160875160875162\n"
     ]
    }
   ],
   "source": [
    "# Technique 2. Decision Tree classifier \n",
    "\n",
    "from sklearn.tree import DecisionTreeClassifier\n",
    "# Train the model\n",
    "tree = DecisionTreeClassifier()\n",
    "tree.fit(X_train, y_train)\n",
    "# Evaluate the model\n",
    "y_pred = tree.predict(X_test)\n",
    "print(\"Decision Tree\")\n",
    "print(classification_report(y_test, y_pred))\n",
    "print(\"ROC-AUC:\", roc_auc_score(y_test, tree.predict_proba(X_test)[:, 1]))\n"
   ]
  },
  {
   "cell_type": "code",
   "execution_count": 11,
   "id": "c6a6a26c-59f3-452e-adce-c7692c3617a0",
   "metadata": {},
   "outputs": [
    {
     "name": "stdout",
     "output_type": "stream",
     "text": [
      "Random Forest\n",
      "              precision    recall  f1-score   support\n",
      "\n",
      "           0       0.83      0.86      0.84       105\n",
      "           1       0.79      0.74      0.76        74\n",
      "\n",
      "    accuracy                           0.81       179\n",
      "   macro avg       0.81      0.80      0.80       179\n",
      "weighted avg       0.81      0.81      0.81       179\n",
      "\n",
      "ROC-AUC: 0.8933075933075932\n"
     ]
    }
   ],
   "source": [
    "# Technique 3 Random Forest\n",
    "from sklearn.ensemble import RandomForestClassifier\n",
    "# Train the model\n",
    "forest = RandomForestClassifier()\n",
    "forest.fit(X_train, y_train)\n",
    "# Evaluate the model\n",
    "y_pred = forest.predict(X_test)\n",
    "print(\"Random Forest\")\n",
    "print(classification_report(y_test, y_pred))\n",
    "print(\"ROC-AUC:\", roc_auc_score(y_test, forest.predict_proba(X_test)[:, 1]))"
   ]
  },
  {
   "cell_type": "code",
   "execution_count": 15,
   "id": "49791f23-e5ad-4925-a33e-fc7f53809e9f",
   "metadata": {},
   "outputs": [
    {
     "name": "stdout",
     "output_type": "stream",
     "text": [
      "Best parameters for Logistic Regression: {'C': 0.1, 'solver': 'saga'}\n"
     ]
    }
   ],
   "source": [
    "# Hyperparameter Tuning for optimization\n",
    "# Use GridSearchCV or RandomizedSearchCV for hyperparameter tuning.\n",
    "from sklearn.model_selection import GridSearchCV\n",
    "param_grid = {\n",
    " 'C': [0.1, 1, 10, 100],\n",
    " 'solver': ['liblinear', 'saga']\n",
    "}\n",
    "grid = GridSearchCV(LogisticRegression(), param_grid, cv=10)\n",
    "grid.fit(X_train, y_train)\n",
    "print(\"Best parameters for Logistic Regression:\", grid.best_params_)"
   ]
  },
  {
   "cell_type": "code",
   "execution_count": null,
   "id": "de6cd956-5f0f-40a0-bac1-3bd2d15b0556",
   "metadata": {},
   "outputs": [],
   "source": []
  }
 ],
 "metadata": {
  "kernelspec": {
   "display_name": "Python 3 (ipykernel)",
   "language": "python",
   "name": "python3"
  },
  "language_info": {
   "codemirror_mode": {
    "name": "ipython",
    "version": 3
   },
   "file_extension": ".py",
   "mimetype": "text/x-python",
   "name": "python",
   "nbconvert_exporter": "python",
   "pygments_lexer": "ipython3",
   "version": "3.11.5"
  }
 },
 "nbformat": 4,
 "nbformat_minor": 5
}
