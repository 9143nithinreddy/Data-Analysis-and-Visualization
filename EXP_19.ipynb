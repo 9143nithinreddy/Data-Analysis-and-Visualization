{
  "nbformat": 4,
  "nbformat_minor": 0,
  "metadata": {
    "colab": {
      "provenance": [],
      "authorship_tag": "ABX9TyNWg2Huv1z6EjiAg4PchMW3",
      "include_colab_link": true
    },
    "kernelspec": {
      "name": "python3",
      "display_name": "Python 3"
    },
    "language_info": {
      "name": "python"
    }
  },
  "cells": [
    {
      "cell_type": "markdown",
      "metadata": {
        "id": "view-in-github",
        "colab_type": "text"
      },
      "source": [
        "<a href=\"https://colab.research.google.com/github/9143nithinreddy/Data-Analysis-and-Visualization-Practicle/blob/main/EXP_19.ipynb\" target=\"_parent\"><img src=\"https://colab.research.google.com/assets/colab-badge.svg\" alt=\"Open In Colab\"/></a>"
      ]
    },
    {
      "cell_type": "code",
      "execution_count": 1,
      "metadata": {
        "colab": {
          "base_uri": "https://localhost:8080/"
        },
        "id": "dhpgScT9f5Sm",
        "outputId": "1c39003c-cacb-4806-c594-7f3774ab1c7d"
      },
      "outputs": [
        {
          "output_type": "stream",
          "name": "stdout",
          "text": [
            "Q1: 21.0\n",
            "Q2 (Median): 41.0\n",
            "Q3: 49.75\n",
            "65th Percentile: 45.3\n"
          ]
        }
      ],
      "source": [
        "import numpy as np\n",
        "\n",
        "data = [13, 21, 21, 40, 42, 48, 55, 72]\n",
        "q1 = np.quantile(data, 0.25)\n",
        "q2 = np.quantile(data, 0.50)\n",
        "q3 = np.quantile(data, 0.75)\n",
        "\n",
        "p65 = np.percentile(data, 65)\n",
        "\n",
        "print(\"Q1:\", q1)\n",
        "print(\"Q2 (Median):\", q2)\n",
        "print(\"Q3:\", q3)\n",
        "print(\"65th Percentile:\", p65)\n"
      ]
    },
    {
      "cell_type": "code",
      "source": [
        "import numpy as np\n",
        "data = [13, 21, 21, 40, 42, 48, 55, 72]\n",
        "\n",
        "q1 = np.quantile(data, 0.25)\n",
        "q2 = np.quantile(data, 0.50)\n",
        "q3 = np.quantile(data, 0.75)\n",
        "p65 = np.percentile(data, 65)\n",
        "\n",
        "q1, q2, q3, p65\n"
      ],
      "metadata": {
        "colab": {
          "base_uri": "https://localhost:8080/"
        },
        "id": "dwA25EmCgFcS",
        "outputId": "22e0377e-d5d9-431c-dec3-cfb926072489"
      },
      "execution_count": 2,
      "outputs": [
        {
          "output_type": "execute_result",
          "data": {
            "text/plain": [
              "(21.0, 41.0, 49.75, 45.3)"
            ]
          },
          "metadata": {},
          "execution_count": 2
        }
      ]
    }
  ]
}