{
 "cells": [
  {
   "cell_type": "code",
   "execution_count": 1,
   "id": "ccfdcc49",
   "metadata": {},
   "outputs": [
    {
     "name": "stdout",
     "output_type": "stream",
     "text": [
      "One-Hot Encoded DataFrame:\n",
      "    category_A  category_B  category_C\n",
      "0        True       False       False\n",
      "1       False        True       False\n",
      "2        True       False       False\n",
      "3       False       False        True\n",
      "4       False        True       False\n",
      "5       False       False        True\n",
      "6        True       False       False\n",
      "\n",
      "Label Encoded DataFrame:\n",
      "   category  category_label\n",
      "0        A               0\n",
      "1        B               1\n",
      "2        A               0\n",
      "3        C               2\n",
      "4        B               1\n",
      "5        C               2\n",
      "6        A               0\n"
     ]
    }
   ],
   "source": [
    "#2 solution\n",
    "import pandas as pd\n",
    "\n",
    "# Sample DataFrame\n",
    "data = {\n",
    "    'category': ['A', 'B', 'A', 'C', 'B', 'C', 'A']\n",
    "}\n",
    "df = pd.DataFrame(data)\n",
    "\n",
    "# One-hot encoding\n",
    "one_hot_encoded_df = pd.get_dummies(df, columns=['category'])\n",
    "\n",
    "# Label encoding\n",
    "df['category_label'] = df['category'].astype('category').cat.codes\n",
    "\n",
    "# Display the DataFrames\n",
    "print(\"One-Hot Encoded DataFrame:\\n\", one_hot_encoded_df)\n",
    "print(\"\\nLabel Encoded DataFrame:\\n\", df)\n"
   ]
  },
  {
   "cell_type": "code",
   "execution_count": null,
   "id": "f86d40e0",
   "metadata": {},
   "outputs": [],
   "source": []
  },
  {
   "cell_type": "code",
   "execution_count": null,
   "id": "fe0ca1cd",
   "metadata": {},
   "outputs": [],
   "source": [
    "#1 solution\n",
    "import pandas as pd\n",
    "\n",
    "# Load the CSV file into a DataFrame\n",
    "df = pd.read_csv('temperature.xlsx')  # Replace 'data.csv' with your actual file path\n",
    "\n",
    "# Convert 'temperature' from Fahrenheit to Celsius and add it as a new column\n",
    "df['temperature_celsius'] = (df['temperature'] - 32) * 5.0/9.0\n",
    "\n",
    "# Display the updated DataFrame\n",
    "print(df.head())\n"
   ]
  }
 ],
 "metadata": {
  "kernelspec": {
   "display_name": "Python 3 (ipykernel)",
   "language": "python",
   "name": "python3"
  },
  "language_info": {
   "codemirror_mode": {
    "name": "ipython",
    "version": 3
   },
   "file_extension": ".py",
   "mimetype": "text/x-python",
   "name": "python",
   "nbconvert_exporter": "python",
   "pygments_lexer": "ipython3",
   "version": "3.12.4"
  }
 },
 "nbformat": 4,
 "nbformat_minor": 5
}
