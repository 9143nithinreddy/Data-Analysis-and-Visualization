{
 "cells": [
  {
   "cell_type": "code",
   "execution_count": 1,
   "id": "f3ca2ca8-1e92-4c30-879b-247f4357ebed",
   "metadata": {},
   "outputs": [
    {
     "name": "stdout",
     "output_type": "stream",
     "text": [
      "1D Array:\n",
      "[1 2 3 4 5]\n",
      "\n",
      "2D Array:\n",
      "[[1 2 3]\n",
      " [4 5 6]]\n"
     ]
    }
   ],
   "source": [
    "import numpy as np\n",
    "\n",
    "# Creating a 1D NumPy array\n",
    "array_1d = np.array([1, 2, 3, 4, 5])\n",
    "\n",
    "# Creating a 2D NumPy array\n",
    "array_2d = np.array([[1, 2, 3], [4, 5, 6]])\n",
    "\n",
    "print(\"1D Array:\")\n",
    "print(array_1d)\n",
    "print(\"\\n2D Array:\")\n",
    "print(array_2d)\n"
   ]
  },
  {
   "cell_type": "code",
   "execution_count": 3,
   "id": "fac77c0a-5110-4ed3-8517-ebe25b1c30ea",
   "metadata": {},
   "outputs": [
    {
     "name": "stdout",
     "output_type": "stream",
     "text": [
      "Original 1D Array:\n",
      "[1 2 3 4 5 6]\n",
      "\n",
      "Reshaped to 2D Array:\n",
      "[[1 2 3]\n",
      " [4 5 6]]\n"
     ]
    }
   ],
   "source": [
    "import numpy as np\n",
    "\n",
    "# Initial 1D array\n",
    "array_1d = np.array([1, 2, 3, 4, 5, 6])\n",
    "\n",
    "# Reshape to 2D array (2 rows, 3 columns)\n",
    "array_2d = array_1d.reshape(2, 3)\n",
    "\n",
    "print(\"Original 1D Array:\")\n",
    "print(array_1d)\n",
    "print(\"\\nReshaped to 2D Array:\")\n",
    "print(array_2d)\n"
   ]
  },
  {
   "cell_type": "code",
   "execution_count": 5,
   "id": "6bd26543-5a29-423f-aa76-82d53b881b9c",
   "metadata": {},
   "outputs": [
    {
     "name": "stdout",
     "output_type": "stream",
     "text": [
      "Element at index [1, 2]: 6\n",
      "\n",
      "Sliced Array:\n",
      "[[2 3]\n",
      " [5 6]]\n"
     ]
    }
   ],
   "source": [
    "import numpy as np\n",
    "\n",
    "# Creating a 2D array\n",
    "array_2d = np.array([[1, 2, 3], [4, 5, 6], [7, 8, 9]])\n",
    "\n",
    "# Indexing\n",
    "element = array_2d[1, 2]\n",
    "\n",
    "# Slicing\n",
    "slice_2d = array_2d[0:2, 1:3]\n",
    "\n",
    "print(\"Element at index [1, 2]:\", element)\n",
    "print(\"\\nSliced Array:\")\n",
    "print(slice_2d)\n"
   ]
  },
  {
   "cell_type": "code",
   "execution_count": 7,
   "id": "dfb720e3-2a3b-487c-afe2-e09486533b40",
   "metadata": {},
   "outputs": [
    {
     "name": "stdout",
     "output_type": "stream",
     "text": [
      "Vertical Stack:\n",
      "[[1 2]\n",
      " [3 4]\n",
      " [5 6]\n",
      " [7 8]]\n",
      "\n",
      "Horizontal Stack:\n",
      "[[1 2 5 6]\n",
      " [3 4 7 8]]\n"
     ]
    }
   ],
   "source": [
    "import numpy as np\n",
    "\n",
    "# Creating two 2D arrays\n",
    "array1 = np.array([[1, 2], [3, 4]])\n",
    "array2 = np.array([[5, 6], [7, 8]])\n",
    "\n",
    "# Vertical stacking\n",
    "v_stack = np.vstack((array1, array2))\n",
    "\n",
    "# Horizontal stacking\n",
    "h_stack = np.hstack((array1, array2))\n",
    "\n",
    "print(\"Vertical Stack:\")\n",
    "print(v_stack)\n",
    "print(\"\\nHorizontal Stack:\")\n",
    "print(h_stack)\n"
   ]
  },
  {
   "cell_type": "code",
   "execution_count": 9,
   "id": "8a7b70b4-0e0b-4fbc-b428-1f0f6dda6016",
   "metadata": {},
   "outputs": [
    {
     "name": "stdout",
     "output_type": "stream",
     "text": [
      "2D Array:\n",
      "[[1 2 3]\n",
      " [4 5 6]]\n",
      "\n",
      "1D Array:\n",
      "[1 2 3]\n",
      "\n",
      "Broadcast Result:\n",
      "[[2 4 6]\n",
      " [5 7 9]]\n"
     ]
    }
   ],
   "source": [
    "import numpy as np\n",
    "\n",
    "# Creating a 2D array\n",
    "array_2d = np.array([[1, 2, 3], [4, 5, 6]])\n",
    "\n",
    "# Creating a 1D array\n",
    "array_1d = np.array([1, 2, 3])\n",
    "\n",
    "# Broadcasting\n",
    "broadcast_result = array_2d + array_1d\n",
    "\n",
    "print(\"2D Array:\")\n",
    "print(array_2d)\n",
    "print(\"\\n1D Array:\")\n",
    "print(array_1d)\n",
    "print(\"\\nBroadcast Result:\")\n",
    "print(broadcast_result)\n"
   ]
  },
  {
   "cell_type": "code",
   "execution_count": null,
   "id": "73c1f40e-4fd3-4ce2-8f63-f953d5ee30e9",
   "metadata": {},
   "outputs": [],
   "source": []
  }
 ],
 "metadata": {
  "kernelspec": {
   "display_name": "Python 3 (ipykernel)",
   "language": "python",
   "name": "python3"
  },
  "language_info": {
   "codemirror_mode": {
    "name": "ipython",
    "version": 3
   },
   "file_extension": ".py",
   "mimetype": "text/x-python",
   "name": "python",
   "nbconvert_exporter": "python",
   "pygments_lexer": "ipython3",
   "version": "3.11.5"
  }
 },
 "nbformat": 4,
 "nbformat_minor": 5
}
