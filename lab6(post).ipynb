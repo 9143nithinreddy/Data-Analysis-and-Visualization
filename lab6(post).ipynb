{
 "cells": [
  {
   "cell_type": "code",
   "execution_count": 1,
   "id": "2d6f0141",
   "metadata": {},
   "outputs": [
    {
     "name": "stdout",
     "output_type": "stream",
     "text": [
      "[1, 4, 9, 16, 25]\n"
     ]
    }
   ],
   "source": [
    "#1 solution\n",
    "def square_elements(input_list):\n",
    "    return [x**2 for x in input_list]\n",
    "\n",
    "# Example usage:\n",
    "input_list = [1, 2, 3, 4, 5]\n",
    "squared_list = square_elements(input_list)\n",
    "print(squared_list)\n"
   ]
  },
  {
   "cell_type": "code",
   "execution_count": 2,
   "id": "d2916d1a",
   "metadata": {},
   "outputs": [
    {
     "name": "stdout",
     "output_type": "stream",
     "text": [
      "HXllX WXrld\n"
     ]
    }
   ],
   "source": [
    "#2 solution\n",
    "def replace_vowels(input_string):\n",
    "    vowels = \"aeiouAEIOU\"\n",
    "    return ''.join(['X' if char in vowels else char for char in input_string])\n",
    "\n",
    "# Example usage:\n",
    "input_string = \"Hello World\"\n",
    "result_string = replace_vowels(input_string)\n",
    "print(result_string)\n"
   ]
  },
  {
   "cell_type": "code",
   "execution_count": 3,
   "id": "0a1597a2",
   "metadata": {},
   "outputs": [
    {
     "name": "stdout",
     "output_type": "stream",
     "text": [
      "[-1.414213562373095, -0.7071067811865475, 0.0, 0.7071067811865475, 1.414213562373095]\n"
     ]
    }
   ],
   "source": [
    "#3 solution\n",
    "def scale_list(input_list):\n",
    "    mean = sum(input_list) / len(input_list)\n",
    "    std_dev = (sum([(x - mean)**2 for x in input_list]) / len(input_list))**0.5\n",
    "    return [(x - mean) / std_dev for x in input_list]\n",
    "\n",
    "# Example usage:\n",
    "input_list = [10, 20, 30, 40, 50]\n",
    "scaled_list = scale_list(input_list)\n",
    "print(scaled_list)\n"
   ]
  },
  {
   "cell_type": "code",
   "execution_count": 4,
   "id": "c3f2ef7a",
   "metadata": {},
   "outputs": [
    {
     "name": "stdout",
     "output_type": "stream",
     "text": [
      "[[1 2 3]\n",
      " [4 5 6]]\n"
     ]
    }
   ],
   "source": [
    "#4 solution\n",
    "import numpy as np\n",
    "\n",
    "def reshape_array(array, rows, cols):\n",
    "    return array.reshape((rows, cols))\n",
    "\n",
    "# Example usage:\n",
    "array = np.array([1, 2, 3, 4, 5, 6])\n",
    "reshaped_array = reshape_array(array, 2, 3)\n",
    "print(reshaped_array)\n"
   ]
  },
  {
   "cell_type": "code",
   "execution_count": null,
   "id": "250877bd",
   "metadata": {},
   "outputs": [],
   "source": []
  }
 ],
 "metadata": {
  "kernelspec": {
   "display_name": "Python 3 (ipykernel)",
   "language": "python",
   "name": "python3"
  },
  "language_info": {
   "codemirror_mode": {
    "name": "ipython",
    "version": 3
   },
   "file_extension": ".py",
   "mimetype": "text/x-python",
   "name": "python",
   "nbconvert_exporter": "python",
   "pygments_lexer": "ipython3",
   "version": "3.12.4"
  }
 },
 "nbformat": 4,
 "nbformat_minor": 5
}
